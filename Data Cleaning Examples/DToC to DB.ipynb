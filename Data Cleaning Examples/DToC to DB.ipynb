{
 "cells": [
  {
   "cell_type": "markdown",
   "metadata": {},
   "source": [
    "# Data Cleaning and Export to SQLite3\n",
    "###  Using NHS England - Delayed Transfers of Care (DToCs) Datasets\n",
    "---\n",
    "This notebook describes and demonstrates the steps that I have taken to clean, combine and prepare a dataset ready for export into a SQLite3 Database.\n",
    "\n",
    "This process has been undertaken using Python with the pandas and SQLite3 libraries. My approach is not Pythonic, however it does work.\n",
    "\n",
    "The datasets I have used are from the [NHS England](https://www.england.nhs.uk/statistics/) statistical publications. The [National Health Service (England)](https://en.wikipedia.org/wiki/National_Health_Service_(England)), commonly abreviated to the NHS, is the publically funded healthcare system in England (with similar, but seperate systems for other parts of the UK). They collect large amounts of data about the provision of services across different providers (e.g. hospitals). One of these is in regards to [Delayed Transfers of Care (DToCs)](https://www.kingsfund.org.uk/topics/measurement-and-performance/delayed-transfers-care-quick-guide), often referred to in the media as bed blocking. DToCs are when an adult patient is ready for transfer or discharge, yet remain in a hospital bed. There can a range of reasons for this; for example a patient might have been treated for a fractured hip, and could be transfered into a nursing home, but there is no availabilty of beds in the nursing home for them to be transferred into. This is seen as a big challenge in the NHS, therefore the data is collected. Lets look at example of this dataset:"
   ]
  },
  {
   "cell_type": "code",
   "execution_count": 1,
   "metadata": {
    "collapsed": true
   },
   "outputs": [],
   "source": [
    "import pandas as pd"
   ]
  },
  {
   "cell_type": "code",
   "execution_count": 2,
   "metadata": {
    "collapsed": false
   },
   "outputs": [
    {
     "data": {
      "text/html": [
       "<div>\n",
       "<table border=\"1\" class=\"dataframe\">\n",
       "  <thead>\n",
       "    <tr style=\"text-align: right;\">\n",
       "      <th></th>\n",
       "      <th>Year</th>\n",
       "      <th>Period Name</th>\n",
       "      <th>Provider Parent Org Code</th>\n",
       "      <th>Provider Parent Name</th>\n",
       "      <th>Provider Org Code</th>\n",
       "      <th>Provider Org Name</th>\n",
       "      <th>Local Authority Code</th>\n",
       "      <th>Local Authority Name</th>\n",
       "      <th>Acute Or Non Acute Description</th>\n",
       "      <th>Reason For Delay</th>\n",
       "      <th>NHS A SUM</th>\n",
       "      <th>NHS B SUM</th>\n",
       "      <th>Social Care A SUM</th>\n",
       "      <th>Social Care B SUM</th>\n",
       "      <th>Both A SUM</th>\n",
       "      <th>Both B SUM</th>\n",
       "    </tr>\n",
       "  </thead>\n",
       "  <tbody>\n",
       "    <tr>\n",
       "      <th>0</th>\n",
       "      <td>2016-17</td>\n",
       "      <td>OCTOBER</td>\n",
       "      <td>Q82</td>\n",
       "      <td>NHS ENGLAND SOUTH (SOUTH CENTRAL)</td>\n",
       "      <td>AXG</td>\n",
       "      <td>WILTSHIRE HEALTH &amp; CARE LLP</td>\n",
       "      <td>817</td>\n",
       "      <td>WILTSHIRE</td>\n",
       "      <td>Non-Acute</td>\n",
       "      <td>I_HOUSING</td>\n",
       "      <td>0</td>\n",
       "      <td>6</td>\n",
       "      <td>0</td>\n",
       "      <td>0</td>\n",
       "      <td>0</td>\n",
       "      <td>0</td>\n",
       "    </tr>\n",
       "    <tr>\n",
       "      <th>1</th>\n",
       "      <td>2016-17</td>\n",
       "      <td>OCTOBER</td>\n",
       "      <td>Q82</td>\n",
       "      <td>NHS ENGLAND SOUTH (SOUTH CENTRAL)</td>\n",
       "      <td>AXG</td>\n",
       "      <td>WILTSHIRE HEALTH &amp; CARE LLP</td>\n",
       "      <td>817</td>\n",
       "      <td>WILTSHIRE</td>\n",
       "      <td>Non-Acute</td>\n",
       "      <td>H_DISPUTES</td>\n",
       "      <td>0</td>\n",
       "      <td>0</td>\n",
       "      <td>0</td>\n",
       "      <td>0</td>\n",
       "      <td>0</td>\n",
       "      <td>0</td>\n",
       "    </tr>\n",
       "    <tr>\n",
       "      <th>2</th>\n",
       "      <td>2016-17</td>\n",
       "      <td>OCTOBER</td>\n",
       "      <td>Q82</td>\n",
       "      <td>NHS ENGLAND SOUTH (SOUTH CENTRAL)</td>\n",
       "      <td>AXG</td>\n",
       "      <td>WILTSHIRE HEALTH &amp; CARE LLP</td>\n",
       "      <td>817</td>\n",
       "      <td>WILTSHIRE</td>\n",
       "      <td>Non-Acute</td>\n",
       "      <td>G_PATIENT_FAMILY_CHOICE</td>\n",
       "      <td>3</td>\n",
       "      <td>29</td>\n",
       "      <td>0</td>\n",
       "      <td>0</td>\n",
       "      <td>0</td>\n",
       "      <td>0</td>\n",
       "    </tr>\n",
       "    <tr>\n",
       "      <th>3</th>\n",
       "      <td>2016-17</td>\n",
       "      <td>OCTOBER</td>\n",
       "      <td>Q82</td>\n",
       "      <td>NHS ENGLAND SOUTH (SOUTH CENTRAL)</td>\n",
       "      <td>AXG</td>\n",
       "      <td>WILTSHIRE HEALTH &amp; CARE LLP</td>\n",
       "      <td>817</td>\n",
       "      <td>WILTSHIRE</td>\n",
       "      <td>Non-Acute</td>\n",
       "      <td>F_COMMUNITY_EQUIP_ADAPT</td>\n",
       "      <td>0</td>\n",
       "      <td>0</td>\n",
       "      <td>0</td>\n",
       "      <td>0</td>\n",
       "      <td>0</td>\n",
       "      <td>0</td>\n",
       "    </tr>\n",
       "    <tr>\n",
       "      <th>4</th>\n",
       "      <td>2016-17</td>\n",
       "      <td>OCTOBER</td>\n",
       "      <td>Q82</td>\n",
       "      <td>NHS ENGLAND SOUTH (SOUTH CENTRAL)</td>\n",
       "      <td>AXG</td>\n",
       "      <td>WILTSHIRE HEALTH &amp; CARE LLP</td>\n",
       "      <td>817</td>\n",
       "      <td>WILTSHIRE</td>\n",
       "      <td>Non-Acute</td>\n",
       "      <td>E_CARE_PACKAGE_IN_HOME</td>\n",
       "      <td>6</td>\n",
       "      <td>224</td>\n",
       "      <td>8</td>\n",
       "      <td>163</td>\n",
       "      <td>0</td>\n",
       "      <td>0</td>\n",
       "    </tr>\n",
       "    <tr>\n",
       "      <th>5</th>\n",
       "      <td>2016-17</td>\n",
       "      <td>OCTOBER</td>\n",
       "      <td>Q82</td>\n",
       "      <td>NHS ENGLAND SOUTH (SOUTH CENTRAL)</td>\n",
       "      <td>AXG</td>\n",
       "      <td>WILTSHIRE HEALTH &amp; CARE LLP</td>\n",
       "      <td>817</td>\n",
       "      <td>WILTSHIRE</td>\n",
       "      <td>Non-Acute</td>\n",
       "      <td>DI_RESIDENTIAL_HOME</td>\n",
       "      <td>1</td>\n",
       "      <td>39</td>\n",
       "      <td>0</td>\n",
       "      <td>62</td>\n",
       "      <td>0</td>\n",
       "      <td>0</td>\n",
       "    </tr>\n",
       "    <tr>\n",
       "      <th>6</th>\n",
       "      <td>2016-17</td>\n",
       "      <td>OCTOBER</td>\n",
       "      <td>Q82</td>\n",
       "      <td>NHS ENGLAND SOUTH (SOUTH CENTRAL)</td>\n",
       "      <td>AXG</td>\n",
       "      <td>WILTSHIRE HEALTH &amp; CARE LLP</td>\n",
       "      <td>817</td>\n",
       "      <td>WILTSHIRE</td>\n",
       "      <td>Non-Acute</td>\n",
       "      <td>DII_NURSING_HOME</td>\n",
       "      <td>0</td>\n",
       "      <td>21</td>\n",
       "      <td>0</td>\n",
       "      <td>37</td>\n",
       "      <td>0</td>\n",
       "      <td>0</td>\n",
       "    </tr>\n",
       "    <tr>\n",
       "      <th>7</th>\n",
       "      <td>2016-17</td>\n",
       "      <td>OCTOBER</td>\n",
       "      <td>Q82</td>\n",
       "      <td>NHS ENGLAND SOUTH (SOUTH CENTRAL)</td>\n",
       "      <td>AXG</td>\n",
       "      <td>WILTSHIRE HEALTH &amp; CARE LLP</td>\n",
       "      <td>817</td>\n",
       "      <td>WILTSHIRE</td>\n",
       "      <td>Non-Acute</td>\n",
       "      <td>C_FURTHER_NON_ACUTE_NHS</td>\n",
       "      <td>1</td>\n",
       "      <td>24</td>\n",
       "      <td>0</td>\n",
       "      <td>0</td>\n",
       "      <td>0</td>\n",
       "      <td>0</td>\n",
       "    </tr>\n",
       "    <tr>\n",
       "      <th>8</th>\n",
       "      <td>2016-17</td>\n",
       "      <td>OCTOBER</td>\n",
       "      <td>Q82</td>\n",
       "      <td>NHS ENGLAND SOUTH (SOUTH CENTRAL)</td>\n",
       "      <td>AXG</td>\n",
       "      <td>WILTSHIRE HEALTH &amp; CARE LLP</td>\n",
       "      <td>817</td>\n",
       "      <td>WILTSHIRE</td>\n",
       "      <td>Non-Acute</td>\n",
       "      <td>B_PUBLIC_FUNDING</td>\n",
       "      <td>0</td>\n",
       "      <td>0</td>\n",
       "      <td>0</td>\n",
       "      <td>0</td>\n",
       "      <td>0</td>\n",
       "      <td>0</td>\n",
       "    </tr>\n",
       "    <tr>\n",
       "      <th>9</th>\n",
       "      <td>2016-17</td>\n",
       "      <td>OCTOBER</td>\n",
       "      <td>Q82</td>\n",
       "      <td>NHS ENGLAND SOUTH (SOUTH CENTRAL)</td>\n",
       "      <td>AXG</td>\n",
       "      <td>WILTSHIRE HEALTH &amp; CARE LLP</td>\n",
       "      <td>817</td>\n",
       "      <td>WILTSHIRE</td>\n",
       "      <td>Non-Acute</td>\n",
       "      <td>A_COMPLETION_ASSESSMENT</td>\n",
       "      <td>0</td>\n",
       "      <td>0</td>\n",
       "      <td>0</td>\n",
       "      <td>0</td>\n",
       "      <td>0</td>\n",
       "      <td>0</td>\n",
       "    </tr>\n",
       "    <tr>\n",
       "      <th>10</th>\n",
       "      <td>2016-17</td>\n",
       "      <td>OCTOBER</td>\n",
       "      <td>Q82</td>\n",
       "      <td>NHS ENGLAND SOUTH (SOUTH CENTRAL)</td>\n",
       "      <td>AXG</td>\n",
       "      <td>WILTSHIRE HEALTH &amp; CARE LLP</td>\n",
       "      <td>817</td>\n",
       "      <td>WILTSHIRE</td>\n",
       "      <td>Acute</td>\n",
       "      <td>I_HOUSING</td>\n",
       "      <td>0</td>\n",
       "      <td>0</td>\n",
       "      <td>0</td>\n",
       "      <td>0</td>\n",
       "      <td>0</td>\n",
       "      <td>0</td>\n",
       "    </tr>\n",
       "    <tr>\n",
       "      <th>11</th>\n",
       "      <td>2016-17</td>\n",
       "      <td>OCTOBER</td>\n",
       "      <td>Q82</td>\n",
       "      <td>NHS ENGLAND SOUTH (SOUTH CENTRAL)</td>\n",
       "      <td>AXG</td>\n",
       "      <td>WILTSHIRE HEALTH &amp; CARE LLP</td>\n",
       "      <td>817</td>\n",
       "      <td>WILTSHIRE</td>\n",
       "      <td>Acute</td>\n",
       "      <td>H_DISPUTES</td>\n",
       "      <td>0</td>\n",
       "      <td>0</td>\n",
       "      <td>0</td>\n",
       "      <td>0</td>\n",
       "      <td>0</td>\n",
       "      <td>0</td>\n",
       "    </tr>\n",
       "    <tr>\n",
       "      <th>12</th>\n",
       "      <td>2016-17</td>\n",
       "      <td>OCTOBER</td>\n",
       "      <td>Q82</td>\n",
       "      <td>NHS ENGLAND SOUTH (SOUTH CENTRAL)</td>\n",
       "      <td>AXG</td>\n",
       "      <td>WILTSHIRE HEALTH &amp; CARE LLP</td>\n",
       "      <td>817</td>\n",
       "      <td>WILTSHIRE</td>\n",
       "      <td>Acute</td>\n",
       "      <td>G_PATIENT_FAMILY_CHOICE</td>\n",
       "      <td>0</td>\n",
       "      <td>0</td>\n",
       "      <td>0</td>\n",
       "      <td>0</td>\n",
       "      <td>0</td>\n",
       "      <td>0</td>\n",
       "    </tr>\n",
       "    <tr>\n",
       "      <th>13</th>\n",
       "      <td>2016-17</td>\n",
       "      <td>OCTOBER</td>\n",
       "      <td>Q82</td>\n",
       "      <td>NHS ENGLAND SOUTH (SOUTH CENTRAL)</td>\n",
       "      <td>AXG</td>\n",
       "      <td>WILTSHIRE HEALTH &amp; CARE LLP</td>\n",
       "      <td>817</td>\n",
       "      <td>WILTSHIRE</td>\n",
       "      <td>Acute</td>\n",
       "      <td>F_COMMUNITY_EQUIP_ADAPT</td>\n",
       "      <td>0</td>\n",
       "      <td>0</td>\n",
       "      <td>0</td>\n",
       "      <td>0</td>\n",
       "      <td>0</td>\n",
       "      <td>0</td>\n",
       "    </tr>\n",
       "    <tr>\n",
       "      <th>14</th>\n",
       "      <td>2016-17</td>\n",
       "      <td>OCTOBER</td>\n",
       "      <td>Q82</td>\n",
       "      <td>NHS ENGLAND SOUTH (SOUTH CENTRAL)</td>\n",
       "      <td>AXG</td>\n",
       "      <td>WILTSHIRE HEALTH &amp; CARE LLP</td>\n",
       "      <td>817</td>\n",
       "      <td>WILTSHIRE</td>\n",
       "      <td>Acute</td>\n",
       "      <td>E_CARE_PACKAGE_IN_HOME</td>\n",
       "      <td>0</td>\n",
       "      <td>0</td>\n",
       "      <td>0</td>\n",
       "      <td>0</td>\n",
       "      <td>0</td>\n",
       "      <td>0</td>\n",
       "    </tr>\n",
       "    <tr>\n",
       "      <th>15</th>\n",
       "      <td>2016-17</td>\n",
       "      <td>OCTOBER</td>\n",
       "      <td>Q82</td>\n",
       "      <td>NHS ENGLAND SOUTH (SOUTH CENTRAL)</td>\n",
       "      <td>AXG</td>\n",
       "      <td>WILTSHIRE HEALTH &amp; CARE LLP</td>\n",
       "      <td>817</td>\n",
       "      <td>WILTSHIRE</td>\n",
       "      <td>Acute</td>\n",
       "      <td>DI_RESIDENTIAL_HOME</td>\n",
       "      <td>0</td>\n",
       "      <td>0</td>\n",
       "      <td>0</td>\n",
       "      <td>0</td>\n",
       "      <td>0</td>\n",
       "      <td>0</td>\n",
       "    </tr>\n",
       "    <tr>\n",
       "      <th>16</th>\n",
       "      <td>2016-17</td>\n",
       "      <td>OCTOBER</td>\n",
       "      <td>Q82</td>\n",
       "      <td>NHS ENGLAND SOUTH (SOUTH CENTRAL)</td>\n",
       "      <td>AXG</td>\n",
       "      <td>WILTSHIRE HEALTH &amp; CARE LLP</td>\n",
       "      <td>817</td>\n",
       "      <td>WILTSHIRE</td>\n",
       "      <td>Acute</td>\n",
       "      <td>DII_NURSING_HOME</td>\n",
       "      <td>0</td>\n",
       "      <td>0</td>\n",
       "      <td>0</td>\n",
       "      <td>0</td>\n",
       "      <td>0</td>\n",
       "      <td>0</td>\n",
       "    </tr>\n",
       "    <tr>\n",
       "      <th>17</th>\n",
       "      <td>2016-17</td>\n",
       "      <td>OCTOBER</td>\n",
       "      <td>Q82</td>\n",
       "      <td>NHS ENGLAND SOUTH (SOUTH CENTRAL)</td>\n",
       "      <td>AXG</td>\n",
       "      <td>WILTSHIRE HEALTH &amp; CARE LLP</td>\n",
       "      <td>817</td>\n",
       "      <td>WILTSHIRE</td>\n",
       "      <td>Acute</td>\n",
       "      <td>C_FURTHER_NON_ACUTE_NHS</td>\n",
       "      <td>0</td>\n",
       "      <td>0</td>\n",
       "      <td>0</td>\n",
       "      <td>0</td>\n",
       "      <td>0</td>\n",
       "      <td>0</td>\n",
       "    </tr>\n",
       "    <tr>\n",
       "      <th>18</th>\n",
       "      <td>2016-17</td>\n",
       "      <td>OCTOBER</td>\n",
       "      <td>Q82</td>\n",
       "      <td>NHS ENGLAND SOUTH (SOUTH CENTRAL)</td>\n",
       "      <td>AXG</td>\n",
       "      <td>WILTSHIRE HEALTH &amp; CARE LLP</td>\n",
       "      <td>817</td>\n",
       "      <td>WILTSHIRE</td>\n",
       "      <td>Acute</td>\n",
       "      <td>B_PUBLIC_FUNDING</td>\n",
       "      <td>0</td>\n",
       "      <td>0</td>\n",
       "      <td>0</td>\n",
       "      <td>0</td>\n",
       "      <td>0</td>\n",
       "      <td>0</td>\n",
       "    </tr>\n",
       "    <tr>\n",
       "      <th>19</th>\n",
       "      <td>2016-17</td>\n",
       "      <td>OCTOBER</td>\n",
       "      <td>Q82</td>\n",
       "      <td>NHS ENGLAND SOUTH (SOUTH CENTRAL)</td>\n",
       "      <td>AXG</td>\n",
       "      <td>WILTSHIRE HEALTH &amp; CARE LLP</td>\n",
       "      <td>817</td>\n",
       "      <td>WILTSHIRE</td>\n",
       "      <td>Acute</td>\n",
       "      <td>A_COMPLETION_ASSESSMENT</td>\n",
       "      <td>0</td>\n",
       "      <td>0</td>\n",
       "      <td>0</td>\n",
       "      <td>0</td>\n",
       "      <td>0</td>\n",
       "      <td>0</td>\n",
       "    </tr>\n",
       "  </tbody>\n",
       "</table>\n",
       "</div>"
      ],
      "text/plain": [
       "       Year Period Name Provider Parent Org Code  \\\n",
       "0   2016-17     OCTOBER                      Q82   \n",
       "1   2016-17     OCTOBER                      Q82   \n",
       "2   2016-17     OCTOBER                      Q82   \n",
       "3   2016-17     OCTOBER                      Q82   \n",
       "4   2016-17     OCTOBER                      Q82   \n",
       "5   2016-17     OCTOBER                      Q82   \n",
       "6   2016-17     OCTOBER                      Q82   \n",
       "7   2016-17     OCTOBER                      Q82   \n",
       "8   2016-17     OCTOBER                      Q82   \n",
       "9   2016-17     OCTOBER                      Q82   \n",
       "10  2016-17     OCTOBER                      Q82   \n",
       "11  2016-17     OCTOBER                      Q82   \n",
       "12  2016-17     OCTOBER                      Q82   \n",
       "13  2016-17     OCTOBER                      Q82   \n",
       "14  2016-17     OCTOBER                      Q82   \n",
       "15  2016-17     OCTOBER                      Q82   \n",
       "16  2016-17     OCTOBER                      Q82   \n",
       "17  2016-17     OCTOBER                      Q82   \n",
       "18  2016-17     OCTOBER                      Q82   \n",
       "19  2016-17     OCTOBER                      Q82   \n",
       "\n",
       "                 Provider Parent Name Provider Org Code  \\\n",
       "0   NHS ENGLAND SOUTH (SOUTH CENTRAL)               AXG   \n",
       "1   NHS ENGLAND SOUTH (SOUTH CENTRAL)               AXG   \n",
       "2   NHS ENGLAND SOUTH (SOUTH CENTRAL)               AXG   \n",
       "3   NHS ENGLAND SOUTH (SOUTH CENTRAL)               AXG   \n",
       "4   NHS ENGLAND SOUTH (SOUTH CENTRAL)               AXG   \n",
       "5   NHS ENGLAND SOUTH (SOUTH CENTRAL)               AXG   \n",
       "6   NHS ENGLAND SOUTH (SOUTH CENTRAL)               AXG   \n",
       "7   NHS ENGLAND SOUTH (SOUTH CENTRAL)               AXG   \n",
       "8   NHS ENGLAND SOUTH (SOUTH CENTRAL)               AXG   \n",
       "9   NHS ENGLAND SOUTH (SOUTH CENTRAL)               AXG   \n",
       "10  NHS ENGLAND SOUTH (SOUTH CENTRAL)               AXG   \n",
       "11  NHS ENGLAND SOUTH (SOUTH CENTRAL)               AXG   \n",
       "12  NHS ENGLAND SOUTH (SOUTH CENTRAL)               AXG   \n",
       "13  NHS ENGLAND SOUTH (SOUTH CENTRAL)               AXG   \n",
       "14  NHS ENGLAND SOUTH (SOUTH CENTRAL)               AXG   \n",
       "15  NHS ENGLAND SOUTH (SOUTH CENTRAL)               AXG   \n",
       "16  NHS ENGLAND SOUTH (SOUTH CENTRAL)               AXG   \n",
       "17  NHS ENGLAND SOUTH (SOUTH CENTRAL)               AXG   \n",
       "18  NHS ENGLAND SOUTH (SOUTH CENTRAL)               AXG   \n",
       "19  NHS ENGLAND SOUTH (SOUTH CENTRAL)               AXG   \n",
       "\n",
       "              Provider Org Name Local Authority Code Local Authority Name  \\\n",
       "0   WILTSHIRE HEALTH & CARE LLP                  817            WILTSHIRE   \n",
       "1   WILTSHIRE HEALTH & CARE LLP                  817            WILTSHIRE   \n",
       "2   WILTSHIRE HEALTH & CARE LLP                  817            WILTSHIRE   \n",
       "3   WILTSHIRE HEALTH & CARE LLP                  817            WILTSHIRE   \n",
       "4   WILTSHIRE HEALTH & CARE LLP                  817            WILTSHIRE   \n",
       "5   WILTSHIRE HEALTH & CARE LLP                  817            WILTSHIRE   \n",
       "6   WILTSHIRE HEALTH & CARE LLP                  817            WILTSHIRE   \n",
       "7   WILTSHIRE HEALTH & CARE LLP                  817            WILTSHIRE   \n",
       "8   WILTSHIRE HEALTH & CARE LLP                  817            WILTSHIRE   \n",
       "9   WILTSHIRE HEALTH & CARE LLP                  817            WILTSHIRE   \n",
       "10  WILTSHIRE HEALTH & CARE LLP                  817            WILTSHIRE   \n",
       "11  WILTSHIRE HEALTH & CARE LLP                  817            WILTSHIRE   \n",
       "12  WILTSHIRE HEALTH & CARE LLP                  817            WILTSHIRE   \n",
       "13  WILTSHIRE HEALTH & CARE LLP                  817            WILTSHIRE   \n",
       "14  WILTSHIRE HEALTH & CARE LLP                  817            WILTSHIRE   \n",
       "15  WILTSHIRE HEALTH & CARE LLP                  817            WILTSHIRE   \n",
       "16  WILTSHIRE HEALTH & CARE LLP                  817            WILTSHIRE   \n",
       "17  WILTSHIRE HEALTH & CARE LLP                  817            WILTSHIRE   \n",
       "18  WILTSHIRE HEALTH & CARE LLP                  817            WILTSHIRE   \n",
       "19  WILTSHIRE HEALTH & CARE LLP                  817            WILTSHIRE   \n",
       "\n",
       "   Acute Or Non Acute Description         Reason For Delay  NHS A SUM  \\\n",
       "0                       Non-Acute                I_HOUSING          0   \n",
       "1                       Non-Acute               H_DISPUTES          0   \n",
       "2                       Non-Acute  G_PATIENT_FAMILY_CHOICE          3   \n",
       "3                       Non-Acute  F_COMMUNITY_EQUIP_ADAPT          0   \n",
       "4                       Non-Acute   E_CARE_PACKAGE_IN_HOME          6   \n",
       "5                       Non-Acute      DI_RESIDENTIAL_HOME          1   \n",
       "6                       Non-Acute         DII_NURSING_HOME          0   \n",
       "7                       Non-Acute  C_FURTHER_NON_ACUTE_NHS          1   \n",
       "8                       Non-Acute         B_PUBLIC_FUNDING          0   \n",
       "9                       Non-Acute  A_COMPLETION_ASSESSMENT          0   \n",
       "10                          Acute                I_HOUSING          0   \n",
       "11                          Acute               H_DISPUTES          0   \n",
       "12                          Acute  G_PATIENT_FAMILY_CHOICE          0   \n",
       "13                          Acute  F_COMMUNITY_EQUIP_ADAPT          0   \n",
       "14                          Acute   E_CARE_PACKAGE_IN_HOME          0   \n",
       "15                          Acute      DI_RESIDENTIAL_HOME          0   \n",
       "16                          Acute         DII_NURSING_HOME          0   \n",
       "17                          Acute  C_FURTHER_NON_ACUTE_NHS          0   \n",
       "18                          Acute         B_PUBLIC_FUNDING          0   \n",
       "19                          Acute  A_COMPLETION_ASSESSMENT          0   \n",
       "\n",
       "    NHS B SUM  Social Care A SUM  Social Care B SUM  Both A SUM  Both B SUM  \n",
       "0           6                  0                  0           0           0  \n",
       "1           0                  0                  0           0           0  \n",
       "2          29                  0                  0           0           0  \n",
       "3           0                  0                  0           0           0  \n",
       "4         224                  8                163           0           0  \n",
       "5          39                  0                 62           0           0  \n",
       "6          21                  0                 37           0           0  \n",
       "7          24                  0                  0           0           0  \n",
       "8           0                  0                  0           0           0  \n",
       "9           0                  0                  0           0           0  \n",
       "10          0                  0                  0           0           0  \n",
       "11          0                  0                  0           0           0  \n",
       "12          0                  0                  0           0           0  \n",
       "13          0                  0                  0           0           0  \n",
       "14          0                  0                  0           0           0  \n",
       "15          0                  0                  0           0           0  \n",
       "16          0                  0                  0           0           0  \n",
       "17          0                  0                  0           0           0  \n",
       "18          0                  0                  0           0           0  \n",
       "19          0                  0                  0           0           0  "
      ]
     },
     "execution_count": 2,
     "metadata": {},
     "output_type": "execute_result"
    }
   ],
   "source": [
    "oct_16 = pd.read_csv('https://www.england.nhs.uk/statistics/wp-content/uploads/sites/2/2016/06/Monthly-SITREPs-DTOC-Extracts-gf04L.csv', header=3)\n",
    "oct_16.head(20)"
   ]
  },
  {
   "cell_type": "markdown",
   "metadata": {},
   "source": [
    "The aim of this exercise is to combine all the available datasets into a single dataset, to then insert into a SQLite table within a database that contains other NHS datasets.\n",
    "\n",
    "To begin, we import all the datasets for 2016 into pandas dataframes using the `pd.read_csv` function. I have done this through a direct link to the files on the NHS England wesbite for the purposes of reproducability; note the use of the parameter `header=3` - this has been used as the csv header begins further down the page. "
   ]
  },
  {
   "cell_type": "code",
   "execution_count": 3,
   "metadata": {
    "collapsed": false
   },
   "outputs": [],
   "source": [
    "sep_16 = pd.read_csv('https://www.england.nhs.uk/statistics/wp-content/uploads/sites/2/2016/06/Monthly-SITREPs-DTOC-Extracts-hfU0D.csv', header=3)\n",
    "aug_16 = pd.read_csv('https://www.england.nhs.uk/statistics/wp-content/uploads/sites/2/2016/06/Monthly-SITREPs-DTOC-Extracts-dj498.csv', header=3)\n",
    "jul_16 = pd.read_csv('https://www.england.nhs.uk/statistics/wp-content/uploads/sites/2/2016/06/Monthly-SITREPs-DTOC-Extracts-9H0jr.csv', header=3)\n",
    "jun_16 = pd.read_csv('https://www.england.nhs.uk/statistics/wp-content/uploads/sites/2/2016/06/Monthly-SITREPs-DTOC-Extracts-T25Kd.csv', header=3)\n",
    "may_16 = pd.read_csv('https://www.england.nhs.uk/statistics/wp-content/uploads/sites/2/2016/06/Monthly-SITREPs-DTOC-Extracts-kYNdw.csv', header=3)\n",
    "apr_16 = pd.read_csv('https://www.england.nhs.uk/statistics/wp-content/uploads/sites/2/2016/06/Monthly-SITREPs-DTOC-Extracts-nN06x.csv', header=3)\n",
    "mar_16 = pd.read_csv('https://www.england.nhs.uk/statistics/wp-content/uploads/sites/2/2015/05/Monthly-SITREPs-DTOC-Extracts-iFYJ2.csv', header=3)\n",
    "feb_16 = pd.read_csv('https://www.england.nhs.uk/statistics/wp-content/uploads/sites/2/2015/05/Monthly-SITREPs-DTOC-Extracts-gVela.csv', header=3)\n",
    "jan_16 = pd.read_csv('https://www.england.nhs.uk/statistics/wp-content/uploads/sites/2/2015/05/Monthly-SITREPs-DTOC-Extracts-9jMj2.csv', header=3)"
   ]
  },
  {
   "cell_type": "markdown",
   "metadata": {},
   "source": [
    "We then combine the 2016 dataframes in a single dataframe assigned to `dtoc_16` using the `pd.concat()` function:"
   ]
  },
  {
   "cell_type": "code",
   "execution_count": 4,
   "metadata": {
    "collapsed": false
   },
   "outputs": [
    {
     "name": "stdout",
     "output_type": "stream",
     "text": [
      "<class 'pandas.core.frame.DataFrame'>\n",
      "Int64Index: 172000 entries, 0 to 18459\n",
      "Data columns (total 16 columns):\n",
      "Year                              172000 non-null object\n",
      "Period Name                       172000 non-null object\n",
      "Provider Parent Org Code          172000 non-null object\n",
      "Provider Parent Name              172000 non-null object\n",
      "Provider Org Code                 172000 non-null object\n",
      "Provider Org Name                 172000 non-null object\n",
      "Local Authority Code              172000 non-null object\n",
      "Local Authority Name              172000 non-null object\n",
      "Acute Or Non Acute Description    172000 non-null object\n",
      "Reason For Delay                  172000 non-null object\n",
      "NHS A SUM                         171996 non-null float64\n",
      "NHS B SUM                         171995 non-null float64\n",
      "Social Care A SUM                 172000 non-null int64\n",
      "Social Care B SUM                 171998 non-null float64\n",
      "Both A SUM                        172000 non-null int64\n",
      "Both B SUM                        171998 non-null float64\n",
      "dtypes: float64(4), int64(2), object(10)\n",
      "memory usage: 22.3+ MB\n"
     ]
    }
   ],
   "source": [
    "frames = [oct_16, sep_16, jul_16, jun_16, may_16, apr_16, mar_16, feb_16, jan_16]\n",
    "\n",
    "dtoc_16 = pd.concat(frames)\n",
    "dtoc_16.info()"
   ]
  },
  {
   "cell_type": "markdown",
   "metadata": {},
   "source": [
    "Note the null values in the dataframe, for now we will ignore this and deal with it once we have combinded all the datasets.\n",
    "\n",
    "Currently the date information is stored as strings in two different columns, with the year in the financial year format and the month as a capitalised name. It will be helpful once we have combinded all the dataframes to add a true datetime column, therefore we will do some preperation work by modifying these columns.\n",
    "\n",
    "* Year\n",
    "  * Convert to a integer value for the calender year.\n",
    "* Month\n",
    "  * Change the name of the 'Period Name' column to 'Month'\n",
    "  * Convert the capatilised month names to an integer value."
   ]
  },
  {
   "cell_type": "code",
   "execution_count": 5,
   "metadata": {
    "collapsed": true
   },
   "outputs": [],
   "source": [
    "# Year\n",
    "dtoc_16['Year'] = 2016\n",
    "\n",
    "# Month\n",
    "dtoc_16 = dtoc_16.rename(columns={'Period Name':'Month'})\n",
    "date_str = ['JANUARY','FEBRUARY','MARCH','APRIL','MAY','JUNE','JULY','AUGUST','SEPTEMBER','OCTOBER','NOVEMBER','DECEMBER']\n",
    "date_int = [1,2,3,4,5,6,7,8,9,10,11,12]\n",
    "for i in range(0,12):\n",
    "    dtoc_16['Month'] = dtoc_16['Month'].replace(date_str[i],date_int[i])    "
   ]
  },
  {
   "cell_type": "markdown",
   "metadata": {},
   "source": [
    "Check the dataframe to see if the changes have been successful:"
   ]
  },
  {
   "cell_type": "code",
   "execution_count": 6,
   "metadata": {
    "collapsed": false
   },
   "outputs": [
    {
     "name": "stdout",
     "output_type": "stream",
     "text": [
      "<class 'pandas.core.frame.DataFrame'>\n",
      "Int64Index: 172000 entries, 0 to 18459\n",
      "Data columns (total 16 columns):\n",
      "Year                              172000 non-null int64\n",
      "Month                             172000 non-null int64\n",
      "Provider Parent Org Code          172000 non-null object\n",
      "Provider Parent Name              172000 non-null object\n",
      "Provider Org Code                 172000 non-null object\n",
      "Provider Org Name                 172000 non-null object\n",
      "Local Authority Code              172000 non-null object\n",
      "Local Authority Name              172000 non-null object\n",
      "Acute Or Non Acute Description    172000 non-null object\n",
      "Reason For Delay                  172000 non-null object\n",
      "NHS A SUM                         171996 non-null float64\n",
      "NHS B SUM                         171995 non-null float64\n",
      "Social Care A SUM                 172000 non-null int64\n",
      "Social Care B SUM                 171998 non-null float64\n",
      "Both A SUM                        172000 non-null int64\n",
      "Both B SUM                        171998 non-null float64\n",
      "dtypes: float64(4), int64(4), object(8)\n",
      "memory usage: 22.3+ MB\n"
     ]
    }
   ],
   "source": [
    "dtoc_16.info()"
   ]
  },
  {
   "cell_type": "markdown",
   "metadata": {},
   "source": [
    "Repeat the above process for the 2015 datasets."
   ]
  },
  {
   "cell_type": "code",
   "execution_count": 7,
   "metadata": {
    "collapsed": true
   },
   "outputs": [],
   "source": [
    "dec_15 = pd.read_csv('https://www.england.nhs.uk/statistics/wp-content/uploads/sites/2/2016/05/Monthly-SITREPs-DTOC-Extracts-6Gxr4.csv', header=3)\n",
    "nov_15 = pd.read_csv('https://www.england.nhs.uk/statistics/wp-content/uploads/sites/2/2016/05/Monthly-SITREPs-DTOC-Extracts-Ifn3m.csv', header=3)\n",
    "oct_15 = pd.read_csv('https://www.england.nhs.uk/statistics/wp-content/uploads/sites/2/2016/05/Monthly-SITREPs-DTOC-Extracts-ZPEX3.csv', header=3)\n",
    "sep_15 = pd.read_csv('https://www.england.nhs.uk/statistics/wp-content/uploads/sites/2/2016/05/Monthly-SITREPs-DTOC-Extracts-fKLcd-1.csv', header=3)\n",
    "aug_15 = pd.read_csv('https://www.england.nhs.uk/statistics/wp-content/uploads/sites/2/2016/05/Monthly-SITREPs-DTOC-Extracts-k00La.csv', header=3)\n",
    "jul_15 = pd.read_csv('https://www.england.nhs.uk/statistics/wp-content/uploads/sites/2/2016/05/Monthly-SITREPs-DTOC-Extracts-1IRZy.csv', header=3)\n",
    "jun_15 = pd.read_csv('https://www.england.nhs.uk/statistics/wp-content/uploads/sites/2/2015/05/Monthly-SITREPs-DTOC-Extracts-June-2015.csv', header=3)\n",
    "may_15 = pd.read_csv('https://www.england.nhs.uk/statistics/wp-content/uploads/sites/2/2015/05/Monthly-SITREPs-DTOC-Extracts-May-2015.csv', header=3)\n",
    "apr_15 = pd.read_csv('https://www.england.nhs.uk/statistics/wp-content/uploads/sites/2/2015/05/Monthly-SITREPs-DTOC-Extracts-April-2015.csv', header=3)\n",
    "mar_15 = pd.read_csv('https://www.england.nhs.uk/statistics/wp-content/uploads/sites/2/2014/05/Monthly-SITREPs-DTOC-Extracts-March-2015.csv', header=3)\n",
    "feb_15 = pd.read_csv('https://www.england.nhs.uk/statistics/wp-content/uploads/sites/2/2014/05/Monthly-SITREPs-DTOC-Extracts-February-2015.csv', header=3)\n",
    "jan_15 = pd.read_csv('https://www.england.nhs.uk/statistics/wp-content/uploads/sites/2/2014/05/Monthly-SITREPs-DTOC-Extracts-January-2015.csv', header=3)"
   ]
  },
  {
   "cell_type": "code",
   "execution_count": 8,
   "metadata": {
    "collapsed": false
   },
   "outputs": [
    {
     "name": "stdout",
     "output_type": "stream",
     "text": [
      "<class 'pandas.core.frame.DataFrame'>\n",
      "Int64Index: 195620 entries, 0 to 19219\n",
      "Data columns (total 16 columns):\n",
      "Year                              195620 non-null object\n",
      "Period Name                       195620 non-null object\n",
      "Provider Parent Org Code          195620 non-null object\n",
      "Provider Parent Name              195620 non-null object\n",
      "Provider Org Code                 195620 non-null object\n",
      "Provider Org Name                 195620 non-null object\n",
      "Local Authority Code              195620 non-null object\n",
      "Local Authority Name              195620 non-null object\n",
      "Acute Or Non Acute Description    195620 non-null object\n",
      "Reason For Delay                  195620 non-null object\n",
      "NHS A SUM                         195615 non-null float64\n",
      "NHS B SUM                         195606 non-null float64\n",
      "Social Care A SUM                 195614 non-null float64\n",
      "Social Care B SUM                 195612 non-null float64\n",
      "Both A SUM                        195617 non-null float64\n",
      "Both B SUM                        195619 non-null float64\n",
      "dtypes: float64(6), object(10)\n",
      "memory usage: 25.4+ MB\n"
     ]
    }
   ],
   "source": [
    "frames = [dec_15, nov_15, oct_15, sep_15, jul_15, jun_15, may_15, apr_15, mar_15, feb_15, jan_15]\n",
    "\n",
    "dtoc_15 = pd.concat(frames)\n",
    "dtoc_15.info()"
   ]
  },
  {
   "cell_type": "code",
   "execution_count": 9,
   "metadata": {
    "collapsed": true
   },
   "outputs": [],
   "source": [
    "# Year\n",
    "dtoc_15['Year'] = 2015\n",
    "\n",
    "# Month\n",
    "dtoc_15 = dtoc_15.rename(columns={'Period Name':'Month'})\n",
    "for i in range(0,12):\n",
    "    dtoc_15['Month'] = dtoc_15['Month'].replace(date_str[i],date_int[i])   "
   ]
  },
  {
   "cell_type": "markdown",
   "metadata": {},
   "source": [
    "Repeat the above process for the 2014 datasets.\n",
    "\n",
    "Note that datasets `mar_14` and `feb_14` use the parameter `header=4` rather than `3` as for these files the header starts further down."
   ]
  },
  {
   "cell_type": "code",
   "execution_count": 10,
   "metadata": {
    "collapsed": true
   },
   "outputs": [],
   "source": [
    "dec_14 = pd.read_csv('https://www.england.nhs.uk/statistics/wp-content/uploads/sites/2/2014/05/Revised-CSV2.csv', header=3)\n",
    "nov_14 = pd.read_csv('https://www.england.nhs.uk/statistics/wp-content/uploads/sites/2/2014/05/Revised-CSV3.csv', header=3)\n",
    "oct_14 = pd.read_csv('https://www.england.nhs.uk/statistics/wp-content/uploads/sites/2/2014/05/Revised-CSV4.csv', header=3)\n",
    "sep_14 = pd.read_csv('https://www.england.nhs.uk/statistics/wp-content/uploads/sites/2/2014/05/Revised-CSV5.csv', header=3)\n",
    "aug_14 = pd.read_csv('https://www.england.nhs.uk/statistics/wp-content/uploads/sites/2/2014/05/Revised-CSV6.csv', header=3)\n",
    "jul_14 = pd.read_csv('https://www.england.nhs.uk/statistics/wp-content/uploads/sites/2/2014/05/Revised-CSV7.csv', header=3)\n",
    "jun_14 = pd.read_csv('https://www.england.nhs.uk/statistics/wp-content/uploads/sites/2/2014/05/Revised-CSV9.csv', header=3)\n",
    "may_14 = pd.read_csv('https://www.england.nhs.uk/statistics/wp-content/uploads/sites/2/2014/05/Revised-CSV10.csv', header=3)\n",
    "apr_14 = pd.read_csv('https://www.england.nhs.uk/statistics/wp-content/uploads/sites/2/2014/05/Revised-CSV11.csv', header=3)\n",
    "mar_14 = pd.read_csv('https://www.england.nhs.uk/statistics/wp-content/uploads/sites/2/2013/05/CSV.csv', header=4)\n",
    "feb_14 = pd.read_csv('https://www.england.nhs.uk/statistics/wp-content/uploads/sites/2/2013/05/csv.csv', header=4)\n",
    "jan_14 = pd.read_csv('https://www.england.nhs.uk/statistics/wp-content/uploads/sites/2/2013/05/Monthly-SITREPs-DTOC-Extracts-20tXE.csv', header=3)"
   ]
  },
  {
   "cell_type": "code",
   "execution_count": 11,
   "metadata": {
    "collapsed": false
   },
   "outputs": [
    {
     "name": "stdout",
     "output_type": "stream",
     "text": [
      "<class 'pandas.core.frame.DataFrame'>\n",
      "Int64Index: 192500 entries, 0 to 17419\n",
      "Data columns (total 16 columns):\n",
      "Year                              192500 non-null object\n",
      "Period Name                       192500 non-null object\n",
      "Provider Parent Org Code          192500 non-null object\n",
      "Provider Parent Name              192500 non-null object\n",
      "Provider Org Code                 192500 non-null object\n",
      "Provider Org Name                 192500 non-null object\n",
      "Local Authority Code              192500 non-null object\n",
      "Local Authority Name              192500 non-null object\n",
      "Acute Or Non Acute Description    192500 non-null object\n",
      "Reason For Delay                  192500 non-null object\n",
      "NHS A SUM                         192492 non-null float64\n",
      "NHS B SUM                         192489 non-null float64\n",
      "Social Care A SUM                 192499 non-null float64\n",
      "Social Care B SUM                 192500 non-null int64\n",
      "Both A SUM                        192495 non-null float64\n",
      "Both B SUM                        192498 non-null float64\n",
      "dtypes: float64(5), int64(1), object(10)\n",
      "memory usage: 25.0+ MB\n"
     ]
    }
   ],
   "source": [
    "frames = [dec_14, nov_14, oct_14, sep_14, jul_14, jun_14, may_14, apr_14, mar_14, feb_14, jan_14]\n",
    "\n",
    "dtoc_14 = pd.concat(frames)\n",
    "dtoc_14.info()"
   ]
  },
  {
   "cell_type": "code",
   "execution_count": 12,
   "metadata": {
    "collapsed": false
   },
   "outputs": [],
   "source": [
    "# Year\n",
    "dtoc_14['Year'] = 2014\n",
    "\n",
    "# Month\n",
    "dtoc_14 = dtoc_14.rename(columns={'Period Name':'Month'})\n",
    "for i in range(0,12):\n",
    "    dtoc_14['Month'] = dtoc_14['Month'].replace(date_str[i],date_int[i])   "
   ]
  },
  {
   "cell_type": "markdown",
   "metadata": {},
   "source": [
    "Repeat the above process for the 2013 dataset"
   ]
  },
  {
   "cell_type": "code",
   "execution_count": 13,
   "metadata": {
    "collapsed": false
   },
   "outputs": [],
   "source": [
    "dec_13 = pd.read_csv('https://www.england.nhs.uk/statistics/wp-content/uploads/sites/2/2013/05/Monthly-SITREPs-DTOC-Extracts-xfx78q.csv', header=3)\n",
    "nov_13 = pd.read_csv('https://www.england.nhs.uk/statistics/wp-content/uploads/sites/2/2013/05/Monthly-SITREPs-DTOC-Extracts-75qzU.csv', header=3)\n",
    "oct_13 = pd.read_csv('https://www.england.nhs.uk/statistics/wp-content/uploads/sites/2/2013/05/Monthly-SITREPs-DTOC-Extracts-VBd38.csv', header=3)\n",
    "sep_13 = pd.read_csv('https://www.england.nhs.uk/statistics/wp-content/uploads/sites/2/2013/05/Monthly-SITREPs-DTOC-Extracts-23rBs.csv', header=3)\n",
    "aug_13 = pd.read_csv('https://www.england.nhs.uk/statistics/wp-content/uploads/sites/2/2013/05/Monthly-SITREPs-DTOC-Extracts-msdi2.csv', header=3)\n",
    "jul_13 = pd.read_csv('https://www.england.nhs.uk/statistics/wp-content/uploads/sites/2/2013/05/Monthly-SITREPs-DTOC-Extracts-K2kDF.csv', header=3)\n",
    "jun_13 = pd.read_csv('https://www.england.nhs.uk/statistics/wp-content/uploads/sites/2/2013/05/Monthly-SITREPs-DTOC-Extracts-8s0Pc.csv', header=3)\n",
    "may_13 = pd.read_csv('https://www.england.nhs.uk/statistics/wp-content/uploads/sites/2/2013/05/Monthly-SITREPs-DTOC-Extracts-1qPs8.csv', header=3)\n",
    "apr_13 = pd.read_csv('https://www.england.nhs.uk/statistics/wp-content/uploads/sites/2/2013/05/Monthly-SITREPs-DTOC-Extracts-Sy45S.csv', header=3)\n",
    "mar_13 = pd.read_csv('https://www.england.nhs.uk/statistics/wp-content/uploads/sites/2/2013/04/Monthly-SITREPs-DTOC-Extracts9GT7D.csv', header=3)\n",
    "feb_13 = pd.read_csv('https://www.england.nhs.uk/statistics/wp-content/uploads/sites/2/2013/04/Monthly-SITREPs-DTOC-Extracts3KH5E.csv', header=3)\n",
    "jan_13 = pd.read_csv('https://www.england.nhs.uk/statistics/wp-content/uploads/sites/2/2013/04/Monthly-SITREPs-DTOC-Extracts6TG8D.csv', header=3)"
   ]
  },
  {
   "cell_type": "code",
   "execution_count": 14,
   "metadata": {
    "collapsed": false
   },
   "outputs": [
    {
     "name": "stdout",
     "output_type": "stream",
     "text": [
      "<class 'pandas.core.frame.DataFrame'>\n",
      "Int64Index: 185700 entries, 0 to 17179\n",
      "Data columns (total 16 columns):\n",
      "Year                              185700 non-null object\n",
      "Period Name                       185700 non-null object\n",
      "Provider Parent Org Code          185700 non-null object\n",
      "Provider Parent Name              185700 non-null object\n",
      "Provider Org Code                 185700 non-null object\n",
      "Provider Org Name                 185700 non-null object\n",
      "Local Authority Code              185700 non-null object\n",
      "Local Authority Name              185700 non-null object\n",
      "Acute Or Non Acute Description    185700 non-null object\n",
      "Reason For Delay                  185700 non-null object\n",
      "NHS A SUM                         185689 non-null float64\n",
      "NHS B SUM                         185691 non-null float64\n",
      "Social Care A SUM                 185696 non-null float64\n",
      "Social Care B SUM                 185690 non-null float64\n",
      "Both A SUM                        185700 non-null int64\n",
      "Both B SUM                        185700 non-null int64\n",
      "dtypes: float64(4), int64(2), object(10)\n",
      "memory usage: 24.1+ MB\n"
     ]
    }
   ],
   "source": [
    "frames = [dec_13, nov_13, oct_13, sep_13, jul_13, jun_13, may_13, apr_13, mar_13, feb_13, jan_13]\n",
    "\n",
    "dtoc_13 = pd.concat(frames)\n",
    "dtoc_13.info()"
   ]
  },
  {
   "cell_type": "code",
   "execution_count": 15,
   "metadata": {
    "collapsed": true
   },
   "outputs": [],
   "source": [
    "# Year\n",
    "dtoc_13['Year'] = 2013\n",
    "\n",
    "# Month\n",
    "dtoc_13 = dtoc_13.rename(columns={'Period Name':'Month'})\n",
    "for i in range(0,12):\n",
    "    dtoc_13['Month'] = dtoc_13['Month'].replace(date_str[i],date_int[i])   "
   ]
  },
  {
   "cell_type": "markdown",
   "metadata": {},
   "source": [
    "Repeat the above process for the 2012 dataset."
   ]
  },
  {
   "cell_type": "code",
   "execution_count": 16,
   "metadata": {
    "collapsed": true
   },
   "outputs": [],
   "source": [
    "dec_12 = pd.read_csv('https://www.england.nhs.uk/statistics/wp-content/uploads/sites/2/2013/04/Monthly-SITREPs-DTOC-Extracts-December-2012-rev-April-2013.csv', header=3)\n",
    "nov_12 = pd.read_csv('https://www.england.nhs.uk/statistics/wp-content/uploads/sites/2/2013/04/Monthly-SITREPs-DTOC-Extracts-November-2012-rev-April-2013.csv', header=3)\n",
    "oct_12 = pd.read_csv('https://www.england.nhs.uk/statistics/wp-content/uploads/sites/2/2013/04/Monthly-SITREPs-DTOC-Extracts-October-2012-rev-April-2013.csv', header=3)\n",
    "sep_12 = pd.read_csv('https://www.england.nhs.uk/statistics/wp-content/uploads/sites/2/2013/04/Monthly-SITREPs-DTOC-Extracts-September-2012-rev-April-2013.csv', header=3)\n",
    "aug_12 = pd.read_csv('https://www.england.nhs.uk/statistics/wp-content/uploads/sites/2/2013/04/Monthly-SITREPs-Extracts-August-2012-rev-April-2013.csv', header=3)\n",
    "jul_12 = pd.read_csv('https://www.england.nhs.uk/statistics/wp-content/uploads/sites/2/2013/04/Monthly-SITREPs-DTOC-Extracts-July-2012-rev-April-2013.csv', header=3)\n",
    "jun_12 = pd.read_csv('https://www.england.nhs.uk/statistics/wp-content/uploads/sites/2/2013/04/Monthly-SITREPs-DTOC-Extracts-June-2012-rev-April-2013.csv', header=3)\n",
    "may_12 = pd.read_csv('https://www.england.nhs.uk/statistics/wp-content/uploads/sites/2/2013/04/Monthly-SITREPs-DTOC-Extracts-May-2012-rev-April-2013.csv', header=3)\n",
    "apr_12 = pd.read_csv('https://www.england.nhs.uk/statistics/wp-content/uploads/sites/2/2013/04/Monthly-SITREPs-DTOC-Extracts-April-2012-rev-April-2013.csv', header=3)\n",
    "mar_12 = pd.read_csv('http://transparency.dh.gov.uk/files/2012/07/Monthly-SITREPs-DTOC-Extracts-March-2011-12-revised-October-2012.csv', header=3)\n",
    "feb_12 = pd.read_csv('http://transparency.dh.gov.uk/files/2012/07/Monthly-SITREPs-DTOC-Extracts-February-2011-12-revised-October-2012.csv', header=3)\n",
    "jan_12 = pd.read_csv('http://transparency.dh.gov.uk/files/2012/07/Monthly-SITREPs-DTOC-Extracts-January-2011-12-revised-October-2012.csv', header=3)"
   ]
  },
  {
   "cell_type": "code",
   "execution_count": 17,
   "metadata": {
    "collapsed": false
   },
   "outputs": [
    {
     "name": "stdout",
     "output_type": "stream",
     "text": [
      "<class 'pandas.core.frame.DataFrame'>\n",
      "Int64Index: 176060 entries, 0 to 15919\n",
      "Data columns (total 16 columns):\n",
      "Year                              176060 non-null object\n",
      "Period Name                       176060 non-null object\n",
      "Provider SHA Code                 176060 non-null object\n",
      "Provider SHA Name                 176060 non-null object\n",
      "Provider Org Code                 176060 non-null object\n",
      "Provider Org Name                 176060 non-null object\n",
      "Local Authority Code              176060 non-null object\n",
      "Local Authority Name              176060 non-null object\n",
      "Acute Or Non Acute Description    176060 non-null object\n",
      "Reason For Delay                  176060 non-null object\n",
      "NHS A SUM                         176051 non-null float64\n",
      "NHS B SUM                         176044 non-null float64\n",
      "Social Care A SUM                 176052 non-null float64\n",
      "Social Care B SUM                 176048 non-null float64\n",
      "Both A SUM                        176060 non-null int64\n",
      "Both B SUM                        176059 non-null float64\n",
      "dtypes: float64(5), int64(1), object(10)\n",
      "memory usage: 22.8+ MB\n"
     ]
    }
   ],
   "source": [
    "frames = [dec_12, nov_12, oct_12, sep_12, jul_12, jun_12, may_12, apr_12, mar_12, feb_12, jan_12]\n",
    "\n",
    "dtoc_12 = pd.concat(frames)\n",
    "dtoc_12.info()"
   ]
  },
  {
   "cell_type": "code",
   "execution_count": 18,
   "metadata": {
    "collapsed": true
   },
   "outputs": [],
   "source": [
    "# Year\n",
    "dtoc_12['Year'] = 2012\n",
    "\n",
    "# Month\n",
    "dtoc_12 = dtoc_12.rename(columns={'Period Name':'Month'})\n",
    "for i in range(0,12):\n",
    "    dtoc_12['Month'] = dtoc_12['Month'].replace(date_str[i],date_int[i])   "
   ]
  },
  {
   "cell_type": "markdown",
   "metadata": {},
   "source": [
    "Repeat the above process for the 2011 dataset."
   ]
  },
  {
   "cell_type": "code",
   "execution_count": 19,
   "metadata": {
    "collapsed": true
   },
   "outputs": [],
   "source": [
    "dec_11 = pd.read_csv('http://webarchive.nationalarchives.gov.uk/20130227100129/http://www.dh.gov.uk/prod_consum_dh/groups/dh_digitalassets/@dh/@en/@ps/@sta/@perf/documents/digitalasset/dh_133801.csv', header=3)\n",
    "nov_11 = pd.read_csv('http://webarchive.nationalarchives.gov.uk/20130227100129/http://www.dh.gov.uk/prod_consum_dh/groups/dh_digitalassets/@dh/@en/@ps/@sta/@perf/documents/digitalasset/dh_133800.csv', header=3)\n",
    "oct_11 = pd.read_csv('http://webarchive.nationalarchives.gov.uk/20130227100129/http://www.dh.gov.uk/prod_consum_dh/groups/dh_digitalassets/@dh/@en/@ps/@sta/@perf/documents/digitalasset/dh_133799.csv', header=3)\n",
    "sep_11 = pd.read_csv('http://webarchive.nationalarchives.gov.uk/20130227100129/http://www.dh.gov.uk/prod_consum_dh/groups/dh_digitalassets/@dh/@en/@ps/@sta/@perf/documents/digitalasset/dh_133798.csv', header=3)\n",
    "aug_11 = pd.read_csv('http://webarchive.nationalarchives.gov.uk/20130227100129/http://www.dh.gov.uk/prod_consum_dh/groups/dh_digitalassets/@dh/@en/@ps/@sta/@perf/documents/digitalasset/dh_133797.csv', header=3)\n",
    "jul_11 = pd.read_csv('http://webarchive.nationalarchives.gov.uk/20130227100129/http://www.dh.gov.uk/prod_consum_dh/groups/dh_digitalassets/@dh/@en/@ps/@sta/@perf/documents/digitalasset/dh_133796.csv', header=3)\n",
    "jun_11 = pd.read_csv('http://webarchive.nationalarchives.gov.uk/20130227100129/http://www.dh.gov.uk/prod_consum_dh/groups/dh_digitalassets/@dh/@en/@ps/@sta/@perf/documents/digitalasset/dh_133795.csv', header=3)\n",
    "may_11 = pd.read_csv('http://webarchive.nationalarchives.gov.uk/20130227100129/http://www.dh.gov.uk/prod_consum_dh/groups/dh_digitalassets/@dh/@en/@ps/@sta/@perf/documents/digitalasset/dh_133794.csv', header=3)\n",
    "apr_11 = pd.read_csv('http://webarchive.nationalarchives.gov.uk/20130227100129/http://www.dh.gov.uk/prod_consum_dh/groups/dh_digitalassets/@dh/@en/@ps/@sta/@perf/documents/digitalasset/dh_133793.csv', header=3)"
   ]
  },
  {
   "cell_type": "code",
   "execution_count": 20,
   "metadata": {
    "collapsed": false
   },
   "outputs": [
    {
     "name": "stdout",
     "output_type": "stream",
     "text": [
      "<class 'pandas.core.frame.DataFrame'>\n",
      "Int64Index: 129560 entries, 0 to 16219\n",
      "Data columns (total 16 columns):\n",
      "Year                              129560 non-null object\n",
      "Period Name                       129560 non-null object\n",
      "Provider SHA Code                 129560 non-null object\n",
      "Provider SHA Name                 129560 non-null object\n",
      "Provider Org Code                 129560 non-null object\n",
      "Provider Org Name                 129560 non-null object\n",
      "Local Authority Code              129560 non-null object\n",
      "Local Authority Name              129560 non-null object\n",
      "Acute Or Non Acute Description    129560 non-null object\n",
      "Reason For Delay                  129560 non-null object\n",
      "NHS A SUM                         129547 non-null float64\n",
      "NHS B SUM                         129534 non-null float64\n",
      "Social Care A SUM                 129541 non-null float64\n",
      "Social Care B SUM                 129528 non-null float64\n",
      "Both A SUM                        129560 non-null int64\n",
      "Both B SUM                        129560 non-null int64\n",
      "dtypes: float64(4), int64(2), object(10)\n",
      "memory usage: 16.8+ MB\n"
     ]
    }
   ],
   "source": [
    "frames = [dec_11, nov_11, oct_11, sep_11, jul_11, jun_11, may_11, apr_11]\n",
    "\n",
    "dtoc_11 = pd.concat(frames)\n",
    "dtoc_11.info()"
   ]
  },
  {
   "cell_type": "code",
   "execution_count": 21,
   "metadata": {
    "collapsed": false
   },
   "outputs": [],
   "source": [
    "# Year\n",
    "dtoc_11['Year'] = 2011\n",
    "\n",
    "# Month\n",
    "dtoc_11 = dtoc_11.rename(columns={'Period Name':'Month'})\n",
    "for i in range(0,12):\n",
    "    dtoc_11['Month'] = dtoc_11['Month'].replace(date_str[i],date_int[i])   "
   ]
  },
  {
   "cell_type": "markdown",
   "metadata": {},
   "source": [
    "Before combining all the datasets into a single dataframe, we need to rename two columns in `dtoc_11` and `dtoc_12` as they use they are named for the old Strategic Health Autorities (SHA). \n",
    "\n",
    "In this situation, these can be renamed to match the `Provider Parent Org Code` and `Name` as per the other dataframes, as the codes used are similar. "
   ]
  },
  {
   "cell_type": "code",
   "execution_count": 22,
   "metadata": {
    "collapsed": false
   },
   "outputs": [
    {
     "name": "stdout",
     "output_type": "stream",
     "text": [
      "dtoc_11\n",
      "---\n",
      "<class 'pandas.core.frame.DataFrame'>\n",
      "Int64Index: 129560 entries, 0 to 16219\n",
      "Data columns (total 16 columns):\n",
      "Year                              129560 non-null int64\n",
      "Month                             129560 non-null int64\n",
      "Provider Parent Org Code          129560 non-null object\n",
      "Provider Parent Name              129560 non-null object\n",
      "Provider Org Code                 129560 non-null object\n",
      "Provider Org Name                 129560 non-null object\n",
      "Local Authority Code              129560 non-null object\n",
      "Local Authority Name              129560 non-null object\n",
      "Acute Or Non Acute Description    129560 non-null object\n",
      "Reason For Delay                  129560 non-null object\n",
      "NHS A SUM                         129547 non-null float64\n",
      "NHS B SUM                         129534 non-null float64\n",
      "Social Care A SUM                 129541 non-null float64\n",
      "Social Care B SUM                 129528 non-null float64\n",
      "Both A SUM                        129560 non-null int64\n",
      "Both B SUM                        129560 non-null int64\n",
      "dtypes: float64(4), int64(4), object(8)\n",
      "memory usage: 16.8+ MB\n",
      "\n",
      "dtoc_12\n",
      "---\n",
      "<class 'pandas.core.frame.DataFrame'>\n",
      "Int64Index: 176060 entries, 0 to 15919\n",
      "Data columns (total 16 columns):\n",
      "Year                              176060 non-null int64\n",
      "Month                             176060 non-null int64\n",
      "Provider Parent Org Code          176060 non-null object\n",
      "Provider Parent Name              176060 non-null object\n",
      "Provider Org Code                 176060 non-null object\n",
      "Provider Org Name                 176060 non-null object\n",
      "Local Authority Code              176060 non-null object\n",
      "Local Authority Name              176060 non-null object\n",
      "Acute Or Non Acute Description    176060 non-null object\n",
      "Reason For Delay                  176060 non-null object\n",
      "NHS A SUM                         176051 non-null float64\n",
      "NHS B SUM                         176044 non-null float64\n",
      "Social Care A SUM                 176052 non-null float64\n",
      "Social Care B SUM                 176048 non-null float64\n",
      "Both A SUM                        176060 non-null int64\n",
      "Both B SUM                        176059 non-null float64\n",
      "dtypes: float64(5), int64(3), object(8)\n",
      "memory usage: 22.8+ MB\n"
     ]
    }
   ],
   "source": [
    "# dtoc_11 and dtoc_12, have different column names, therefore correct for this\n",
    "dtoc_11 = dtoc_11.rename(columns={'Provider SHA Code':'Provider Parent Org Code', 'Provider SHA Name':'Provider Parent Name'})\n",
    "dtoc_12 = dtoc_12.rename(columns={'Provider SHA Code':'Provider Parent Org Code', 'Provider SHA Name':'Provider Parent Name'})\n",
    "\n",
    "print('dtoc_11\\n---')\n",
    "dtoc_11.info()\n",
    "print('\\ndtoc_12\\n---')\n",
    "dtoc_12.info()"
   ]
  },
  {
   "cell_type": "markdown",
   "metadata": {},
   "source": [
    "Combine all of these dataframes into a single dataframe, ready for upload to SQLite Database."
   ]
  },
  {
   "cell_type": "code",
   "execution_count": 23,
   "metadata": {
    "collapsed": false
   },
   "outputs": [
    {
     "name": "stdout",
     "output_type": "stream",
     "text": [
      "<class 'pandas.core.frame.DataFrame'>\n",
      "Int64Index: 921880 entries, 0 to 15919\n",
      "Data columns (total 16 columns):\n",
      "Year                              921880 non-null int64\n",
      "Month                             921880 non-null int64\n",
      "Provider Parent Org Code          921880 non-null object\n",
      "Provider Parent Name              921880 non-null object\n",
      "Provider Org Code                 921880 non-null object\n",
      "Provider Org Name                 921880 non-null object\n",
      "Local Authority Code              921880 non-null object\n",
      "Local Authority Name              921880 non-null object\n",
      "Acute Or Non Acute Description    921880 non-null object\n",
      "Reason For Delay                  921880 non-null object\n",
      "NHS A SUM                         921843 non-null float64\n",
      "NHS B SUM                         921825 non-null float64\n",
      "Social Care A SUM                 921861 non-null float64\n",
      "Social Care B SUM                 921848 non-null float64\n",
      "Both A SUM                        921872 non-null float64\n",
      "Both B SUM                        921874 non-null float64\n",
      "dtypes: float64(6), int64(2), object(8)\n",
      "memory usage: 119.6+ MB\n"
     ]
    }
   ],
   "source": [
    "frames = [dtoc_16, dtoc_15, dtoc_14, dtoc_13, dtoc_12]\n",
    "dtoc = pd.concat(frames)\n",
    "\n",
    "dtoc.info()"
   ]
  },
  {
   "cell_type": "markdown",
   "metadata": {},
   "source": [
    "As noted above, we have a number of null values. There are two approches to dealing with this problem:\n",
    "* Drop the observation (row) entirely\n",
    "* Replace the null with a value\n",
    "\n",
    "In this case as we are dealing with numeric (float) values, therefore we are going to replace the null value with 0. So that other values in that observation are not lost. This is achieved using the `df.fillna()` function:"
   ]
  },
  {
   "cell_type": "code",
   "execution_count": 24,
   "metadata": {
    "collapsed": false
   },
   "outputs": [],
   "source": [
    "dtoc = dtoc.fillna(0)"
   ]
  },
  {
   "cell_type": "markdown",
   "metadata": {},
   "source": [
    "Finally we are going to add the datetime column. \n",
    "\n",
    "We are going to make a pragmatic decision about the choice of date for each observation. If we look at the [definitions and guidance document](https://www.england.nhs.uk/statistics/wp-content/uploads/sites/2/2015/10/mnth-Sitreps-def-dtoc-v1.09.pdf) for this dataset; it shows that \"NHS, Social Care and Both A SUM\" are the number of patients classed as being in DToC on the **last Thursday of every month**. Whilst \"NHS, Social Care and Both B SUM\" are the total number of DToC days for all patients **during the entire month**.\n",
    "\n",
    "Therefore we are going to make a pragmatic decision to assign the day to the 1st of every month. Whilst this is technically incorrect, it won't impact on our future analysis purposes. Therefore we create a column called `Day`, which `=1` for all rows.\n",
    "\n",
    "We then combine the `Year`, `Month` and `Day` column into a temporary column called `Period`. We can then use `pd.to_datetime(dtoc['Period'])` assigned to a new column called `Date`.\n",
    "\n",
    "Finally we can drop `Year`, `Month`, `Day` and `Period` columns, as we no longer require these as they have been replaced by the `Date` column."
   ]
  },
  {
   "cell_type": "code",
   "execution_count": 25,
   "metadata": {
    "collapsed": false
   },
   "outputs": [
    {
     "name": "stdout",
     "output_type": "stream",
     "text": [
      "<class 'pandas.core.frame.DataFrame'>\n",
      "Int64Index: 921880 entries, 0 to 15919\n",
      "Data columns (total 15 columns):\n",
      "Provider Parent Org Code          921880 non-null object\n",
      "Provider Parent Name              921880 non-null object\n",
      "Provider Org Code                 921880 non-null object\n",
      "Provider Org Name                 921880 non-null object\n",
      "Local Authority Code              921880 non-null object\n",
      "Local Authority Name              921880 non-null object\n",
      "Acute Or Non Acute Description    921880 non-null object\n",
      "Reason For Delay                  921880 non-null object\n",
      "NHS A SUM                         921880 non-null float64\n",
      "NHS B SUM                         921880 non-null float64\n",
      "Social Care A SUM                 921880 non-null float64\n",
      "Social Care B SUM                 921880 non-null float64\n",
      "Both A SUM                        921880 non-null float64\n",
      "Both B SUM                        921880 non-null float64\n",
      "Date                              921880 non-null datetime64[ns]\n",
      "dtypes: datetime64[ns](1), float64(6), object(8)\n",
      "memory usage: 112.5+ MB\n"
     ]
    }
   ],
   "source": [
    "# Day\n",
    "dtoc['Day'] = 1\n",
    "\n",
    "# Date\n",
    "dtoc['Period'] = dtoc['Year'].map(str) + '-' + dtoc['Month'].map(str) + '-' + dtoc['Day'].map(str)\n",
    "dtoc['Date'] = pd.to_datetime(dtoc['Period'])\n",
    "dtoc = dtoc.drop(['Period','Year','Month','Day'], axis=1)\n",
    "\n",
    "dtoc.info()"
   ]
  },
  {
   "cell_type": "code",
   "execution_count": 26,
   "metadata": {
    "collapsed": false
   },
   "outputs": [
    {
     "data": {
      "text/html": [
       "<div>\n",
       "<table border=\"1\" class=\"dataframe\">\n",
       "  <thead>\n",
       "    <tr style=\"text-align: right;\">\n",
       "      <th></th>\n",
       "      <th>Provider Parent Org Code</th>\n",
       "      <th>Provider Parent Name</th>\n",
       "      <th>Provider Org Code</th>\n",
       "      <th>Provider Org Name</th>\n",
       "      <th>Local Authority Code</th>\n",
       "      <th>Local Authority Name</th>\n",
       "      <th>Acute Or Non Acute Description</th>\n",
       "      <th>Reason For Delay</th>\n",
       "      <th>NHS A SUM</th>\n",
       "      <th>NHS B SUM</th>\n",
       "      <th>Social Care A SUM</th>\n",
       "      <th>Social Care B SUM</th>\n",
       "      <th>Both A SUM</th>\n",
       "      <th>Both B SUM</th>\n",
       "      <th>Date</th>\n",
       "    </tr>\n",
       "  </thead>\n",
       "  <tbody>\n",
       "    <tr>\n",
       "      <th>0</th>\n",
       "      <td>Q82</td>\n",
       "      <td>NHS ENGLAND SOUTH (SOUTH CENTRAL)</td>\n",
       "      <td>AXG</td>\n",
       "      <td>WILTSHIRE HEALTH &amp; CARE LLP</td>\n",
       "      <td>817</td>\n",
       "      <td>WILTSHIRE</td>\n",
       "      <td>Non-Acute</td>\n",
       "      <td>I_HOUSING</td>\n",
       "      <td>0.0</td>\n",
       "      <td>6.0</td>\n",
       "      <td>0.0</td>\n",
       "      <td>0.0</td>\n",
       "      <td>0.0</td>\n",
       "      <td>0.0</td>\n",
       "      <td>2016-10-01</td>\n",
       "    </tr>\n",
       "    <tr>\n",
       "      <th>1</th>\n",
       "      <td>Q82</td>\n",
       "      <td>NHS ENGLAND SOUTH (SOUTH CENTRAL)</td>\n",
       "      <td>AXG</td>\n",
       "      <td>WILTSHIRE HEALTH &amp; CARE LLP</td>\n",
       "      <td>817</td>\n",
       "      <td>WILTSHIRE</td>\n",
       "      <td>Non-Acute</td>\n",
       "      <td>H_DISPUTES</td>\n",
       "      <td>0.0</td>\n",
       "      <td>0.0</td>\n",
       "      <td>0.0</td>\n",
       "      <td>0.0</td>\n",
       "      <td>0.0</td>\n",
       "      <td>0.0</td>\n",
       "      <td>2016-10-01</td>\n",
       "    </tr>\n",
       "    <tr>\n",
       "      <th>2</th>\n",
       "      <td>Q82</td>\n",
       "      <td>NHS ENGLAND SOUTH (SOUTH CENTRAL)</td>\n",
       "      <td>AXG</td>\n",
       "      <td>WILTSHIRE HEALTH &amp; CARE LLP</td>\n",
       "      <td>817</td>\n",
       "      <td>WILTSHIRE</td>\n",
       "      <td>Non-Acute</td>\n",
       "      <td>G_PATIENT_FAMILY_CHOICE</td>\n",
       "      <td>3.0</td>\n",
       "      <td>29.0</td>\n",
       "      <td>0.0</td>\n",
       "      <td>0.0</td>\n",
       "      <td>0.0</td>\n",
       "      <td>0.0</td>\n",
       "      <td>2016-10-01</td>\n",
       "    </tr>\n",
       "    <tr>\n",
       "      <th>3</th>\n",
       "      <td>Q82</td>\n",
       "      <td>NHS ENGLAND SOUTH (SOUTH CENTRAL)</td>\n",
       "      <td>AXG</td>\n",
       "      <td>WILTSHIRE HEALTH &amp; CARE LLP</td>\n",
       "      <td>817</td>\n",
       "      <td>WILTSHIRE</td>\n",
       "      <td>Non-Acute</td>\n",
       "      <td>F_COMMUNITY_EQUIP_ADAPT</td>\n",
       "      <td>0.0</td>\n",
       "      <td>0.0</td>\n",
       "      <td>0.0</td>\n",
       "      <td>0.0</td>\n",
       "      <td>0.0</td>\n",
       "      <td>0.0</td>\n",
       "      <td>2016-10-01</td>\n",
       "    </tr>\n",
       "    <tr>\n",
       "      <th>4</th>\n",
       "      <td>Q82</td>\n",
       "      <td>NHS ENGLAND SOUTH (SOUTH CENTRAL)</td>\n",
       "      <td>AXG</td>\n",
       "      <td>WILTSHIRE HEALTH &amp; CARE LLP</td>\n",
       "      <td>817</td>\n",
       "      <td>WILTSHIRE</td>\n",
       "      <td>Non-Acute</td>\n",
       "      <td>E_CARE_PACKAGE_IN_HOME</td>\n",
       "      <td>6.0</td>\n",
       "      <td>224.0</td>\n",
       "      <td>8.0</td>\n",
       "      <td>163.0</td>\n",
       "      <td>0.0</td>\n",
       "      <td>0.0</td>\n",
       "      <td>2016-10-01</td>\n",
       "    </tr>\n",
       "  </tbody>\n",
       "</table>\n",
       "</div>"
      ],
      "text/plain": [
       "  Provider Parent Org Code               Provider Parent Name  \\\n",
       "0                      Q82  NHS ENGLAND SOUTH (SOUTH CENTRAL)   \n",
       "1                      Q82  NHS ENGLAND SOUTH (SOUTH CENTRAL)   \n",
       "2                      Q82  NHS ENGLAND SOUTH (SOUTH CENTRAL)   \n",
       "3                      Q82  NHS ENGLAND SOUTH (SOUTH CENTRAL)   \n",
       "4                      Q82  NHS ENGLAND SOUTH (SOUTH CENTRAL)   \n",
       "\n",
       "  Provider Org Code            Provider Org Name Local Authority Code  \\\n",
       "0               AXG  WILTSHIRE HEALTH & CARE LLP                  817   \n",
       "1               AXG  WILTSHIRE HEALTH & CARE LLP                  817   \n",
       "2               AXG  WILTSHIRE HEALTH & CARE LLP                  817   \n",
       "3               AXG  WILTSHIRE HEALTH & CARE LLP                  817   \n",
       "4               AXG  WILTSHIRE HEALTH & CARE LLP                  817   \n",
       "\n",
       "  Local Authority Name Acute Or Non Acute Description  \\\n",
       "0            WILTSHIRE                      Non-Acute   \n",
       "1            WILTSHIRE                      Non-Acute   \n",
       "2            WILTSHIRE                      Non-Acute   \n",
       "3            WILTSHIRE                      Non-Acute   \n",
       "4            WILTSHIRE                      Non-Acute   \n",
       "\n",
       "          Reason For Delay  NHS A SUM  NHS B SUM  Social Care A SUM  \\\n",
       "0                I_HOUSING        0.0        6.0                0.0   \n",
       "1               H_DISPUTES        0.0        0.0                0.0   \n",
       "2  G_PATIENT_FAMILY_CHOICE        3.0       29.0                0.0   \n",
       "3  F_COMMUNITY_EQUIP_ADAPT        0.0        0.0                0.0   \n",
       "4   E_CARE_PACKAGE_IN_HOME        6.0      224.0                8.0   \n",
       "\n",
       "   Social Care B SUM  Both A SUM  Both B SUM       Date  \n",
       "0                0.0         0.0         0.0 2016-10-01  \n",
       "1                0.0         0.0         0.0 2016-10-01  \n",
       "2                0.0         0.0         0.0 2016-10-01  \n",
       "3                0.0         0.0         0.0 2016-10-01  \n",
       "4              163.0         0.0         0.0 2016-10-01  "
      ]
     },
     "execution_count": 26,
     "metadata": {},
     "output_type": "execute_result"
    }
   ],
   "source": [
    "dtoc.head()"
   ]
  },
  {
   "cell_type": "markdown",
   "metadata": {},
   "source": [
    "The dataframe is almost ready to be exported to SQLite, however currently the column names are inappropriate and don't match [SQL naming conventions](https://launchbylunch.com/posts/2014/Feb/16/sql-naming-conventions/). Therefore we are going to rename all the columns to something more appropriate for a SQL database."
   ]
  },
  {
   "cell_type": "code",
   "execution_count": 27,
   "metadata": {
    "collapsed": true
   },
   "outputs": [],
   "source": [
    "dtoc = dtoc.rename(columns={\n",
    "        'Provider Parent Org Code':'area_team_code',\n",
    "        'Provider Parent Name':'area_team_name',\n",
    "        'Provider Org Code':'provider_code',\n",
    "        'Provider Org Name':'provider_name',\n",
    "        'Local Authority Code':'la_code',\n",
    "        'Local Authority Name':'la_name',\n",
    "        'Acute Or Non Acute Description':'acute_nonacute',\n",
    "        'Reason For Delay':'reason',\n",
    "        'NHS A SUM':'nhs_a','NHS B SUM':'nhs_b',\n",
    "        'Social Care A SUM':'socialcare_a',\n",
    "        'Social Care B SUM':'socialcare_b',\n",
    "        'Both A SUM':'both_a',\n",
    "        'Both B SUM':'both_b',\n",
    "        'Date':'date'\n",
    "    })"
   ]
  },
  {
   "cell_type": "code",
   "execution_count": 28,
   "metadata": {
    "collapsed": false
   },
   "outputs": [
    {
     "name": "stdout",
     "output_type": "stream",
     "text": [
      "<class 'pandas.core.frame.DataFrame'>\n",
      "Int64Index: 921880 entries, 0 to 15919\n",
      "Data columns (total 15 columns):\n",
      "area_team_code    921880 non-null object\n",
      "area_team_name    921880 non-null object\n",
      "provider_code     921880 non-null object\n",
      "provider_name     921880 non-null object\n",
      "la_code           921880 non-null object\n",
      "la_name           921880 non-null object\n",
      "acute_nonacute    921880 non-null object\n",
      "reason            921880 non-null object\n",
      "nhs_a             921880 non-null float64\n",
      "nhs_b             921880 non-null float64\n",
      "socialcare_a              921880 non-null float64\n",
      "socialcare_b              921880 non-null float64\n",
      "both_a            921880 non-null float64\n",
      "both_b            921880 non-null float64\n",
      "date              921880 non-null datetime64[ns]\n",
      "dtypes: datetime64[ns](1), float64(6), object(8)\n",
      "memory usage: 112.5+ MB\n"
     ]
    }
   ],
   "source": [
    "dtoc.info()"
   ]
  },
  {
   "cell_type": "markdown",
   "metadata": {},
   "source": [
    "Finally we create a connection to the SQLite database `nhsdatasets.db`; and use the `df.to_sql()` funtion to insert the `dtoc` dataframe into the table also titled  `dtoc`."
   ]
  },
  {
   "cell_type": "code",
   "execution_count": 29,
   "metadata": {
    "collapsed": false
   },
   "outputs": [],
   "source": [
    "import sqlite3\n",
    "\n",
    "conn = sqlite3.connect('nhsdatasets.db')"
   ]
  },
  {
   "cell_type": "code",
   "execution_count": 30,
   "metadata": {
    "collapsed": false
   },
   "outputs": [],
   "source": [
    "dtoc.to_sql('dtoc', con=conn, if_exists='replace')"
   ]
  },
  {
   "cell_type": "markdown",
   "metadata": {},
   "source": [
    "This successfully inserts the data into a SQLite table in my nhsdatasets database, as demonstrated here in SQLiteStudio:\n",
    "\n",
    "![alt text](http://www.richardonhealth.com/wp-content/uploads/2017/01/Database-Example-1024x497.png \"Example from SQLiteStudio\")\n",
    "\n",
    "Finally, we need to close the connection to the database."
   ]
  },
  {
   "cell_type": "code",
   "execution_count": 31,
   "metadata": {
    "collapsed": true
   },
   "outputs": [],
   "source": [
    "conn.close()"
   ]
  },
  {
   "cell_type": "markdown",
   "metadata": {},
   "source": [
    "---\n",
    "Guide by Richard Betteridge -- [@rlionheart92](https://www.twitter.com/rlionheart92) -- [richardonhealth.com](http://www.richardonhealth.com) "
   ]
  }
 ],
 "metadata": {
  "kernelspec": {
   "display_name": "Python [conda root]",
   "language": "python",
   "name": "conda-root-py"
  },
  "language_info": {
   "codemirror_mode": {
    "name": "ipython",
    "version": 3
   },
   "file_extension": ".py",
   "mimetype": "text/x-python",
   "name": "python",
   "nbconvert_exporter": "python",
   "pygments_lexer": "ipython3",
   "version": "3.5.2"
  }
 },
 "nbformat": 4,
 "nbformat_minor": 1
}
